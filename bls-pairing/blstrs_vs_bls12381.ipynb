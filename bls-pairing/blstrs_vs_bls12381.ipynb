{
 "cells": [
  {
   "cell_type": "markdown",
   "metadata": {},
   "source": [
    "### bls12-381的benchmark （1000次pairing）\n",
    "bls12-381 pairing       time:   [3.4111 s 3.4342 s 3.4598 s] <br>\n",
    "\n",
    "### blstrs的benchmark（1000次pairing）\n",
    "blstrs pairing          time:   [611.30 ms 616.25 ms 621.47 ms]<br>\n",
    "\n",
    "### 作为参考 python-bls\n",
    "其代码链接为：https://github.com/pablo-vs/BLS <br>\n",
    "运行 10次 pairing<br>\n",
    "python3 pairing-python.py <br>\n",
    "64.46094727516174 s <br>\n",
    "\n",
    "### 结论\n",
    "blstrs用x86汇编语言实现的，在x86机器上性能几乎是bls12-381的6倍，所以filecoin必须要用blstrs来代替bls12-381，纯python的实现在性能上落后bls12-381 达2000倍以上。\n"
   ]
  }
 ],
 "metadata": {
  "kernelspec": {
   "display_name": "Python 3.10.1 64-bit",
   "language": "python",
   "name": "python3"
  },
  "language_info": {
   "name": "python",
   "version": "3.10.1"
  },
  "orig_nbformat": 4,
  "vscode": {
   "interpreter": {
    "hash": "aee8b7b246df8f9039afb4144a1f6fd8d2ca17a180786b69acc140d282b71a49"
   }
  }
 },
 "nbformat": 4,
 "nbformat_minor": 2
}
