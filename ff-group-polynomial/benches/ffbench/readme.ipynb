{
 "cells": [
  {
   "cell_type": "markdown",
   "metadata": {},
   "source": [
    "\n",
    "### rust bench\n",
    "在上级目录里执行\n",
    "cargo bench\n",
    "\n",
    "\n",
    "结果如下：<br>\n",
    "ff                      time:   [8.3154 ms 8.3432 ms 8.3730 ms] <br>\n",
    "                        change: [+97867% +98828% +99719%] (p = 0.00 < 0.05) <br>\n",
    "                        Performance has regressed.<br>\n",
    "\n",
    "\n",
    "### sage 代码\n",
    "在命令行执行 <br>\n",
    "sage ./ff.sage\n",
    "0.0038259029388427734\n",
    "\n",
    "单纯执行GF的除法操作，sage内置的算法效率居然比rust的实现快了60%左右\n",
    "\n",
    "### field.py\n",
    "本实现算法来自于stark101, 在命令行里执行\n",
    "python3 ./field.py\n",
    "0.04686594009399414\n",
    "\n",
    "\n",
    "## 结论\n",
    "sage的算法优化做的非常好，应该底层是基于c的实现，因此效率最高，纯python的实现差不多要慢一个数量级\n"
   ]
  }
 ],
 "metadata": {
  "kernelspec": {
   "display_name": "Python 3.10.1 64-bit",
   "language": "python",
   "name": "python3"
  },
  "language_info": {
   "name": "python",
   "version": "3.10.1"
  },
  "orig_nbformat": 4,
  "vscode": {
   "interpreter": {
    "hash": "aee8b7b246df8f9039afb4144a1f6fd8d2ca17a180786b69acc140d282b71a49"
   }
  }
 },
 "nbformat": 4,
 "nbformat_minor": 2
}
