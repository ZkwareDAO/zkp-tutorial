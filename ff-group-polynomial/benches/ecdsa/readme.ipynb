{
 "cells": [
  {
   "cell_type": "markdown",
   "metadata": {},
   "source": [
    "### 运行cargo bench\n",
    "ecdsa的rust实现：<br>\n",
    "ecdsa                   time:   [197.30 ms 197.94 ms 198.68 ms]<br>\n",
    "                        change: [+6.9854% +7.4768% +7.9738%] (p = 0.00 < 0.05)<br>\n",
    "                        Performance has regressed.<br>\n",
    "Found 9 outliers among 100 measurements (9.00%)<br>\n",
    "  3 (3.00%) low mild<br>\n",
    "  6 (6.00%) high severe<br>\n",
    "\n",
    "### 运行sage ./secp256k1.sage\n",
    "Verification Result :  True<br>\n",
    "31.36751890182495<br>\n",
    "\n",
    "### 结论\n",
    "rust的实现快了差不多300倍\n"
   ]
  }
 ],
 "metadata": {
  "kernelspec": {
   "display_name": "Python 3.10.1 64-bit",
   "language": "python",
   "name": "python3"
  },
  "language_info": {
   "name": "python",
   "version": "3.10.1"
  },
  "orig_nbformat": 4,
  "vscode": {
   "interpreter": {
    "hash": "aee8b7b246df8f9039afb4144a1f6fd8d2ca17a180786b69acc140d282b71a49"
   }
  }
 },
 "nbformat": 4,
 "nbformat_minor": 2
}
