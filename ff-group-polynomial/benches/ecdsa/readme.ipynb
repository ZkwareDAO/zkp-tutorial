{
 "cells": [
  {
   "cell_type": "markdown",
   "metadata": {},
   "source": [
    "### 运行cargo bench\n",
    "ecdsa的rust实现：<br>\n",
    "ecdsa                   time:   [197.30 ms 197.94 ms 198.68 ms]<br>\n",
    "                        change: [+6.9854% +7.4768% +7.9738%] (p = 0.00 < 0.05)<br>\n",
    "                        Performance has regressed.<br>\n",
    "Found 9 outliers among 100 measurements (9.00%)<br>\n",
    "  3 (3.00%) low mild<br>\n",
    "  6 (6.00%) high severe<br>\n",
    "\n",
    "### 运行sage ./secp256k1.sage\n",
    "Verification Result :  True<br>\n",
    "31.36751890182495<br>\n",
    "\n",
    "### 结论\n",
    "rust的实现快了差不多300倍\n"
   ]
  }
 ],
 "metadata": {
  "language_info": {
   "name": "python"
  },
  "orig_nbformat": 4
 },
 "nbformat": 4,
 "nbformat_minor": 2
}
