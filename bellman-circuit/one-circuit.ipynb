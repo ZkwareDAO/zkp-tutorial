{
 "cells": [
  {
   "cell_type": "markdown",
   "metadata": {},
   "source": [
    "### 一个最基本的电路\n",
    "证明 21 = x*7有一个解\n",
    "\n",
    "### step 1: 构造电路"
   ]
  },
  {
   "cell_type": "raw",
   "metadata": {},
   "source": [
    "pub struct MultiplyDemo <S: PrimeField>{\n",
    "    pub a: Option<S>,\n",
    "    pub b: Option<S>,\n",
    "    pub c: Option<S>\n",
    "}\n",
    "\n",
    "impl<'a, S: PrimeField> Circuit<S> for MultiplyDemo <S> {\n",
    "    fn synthesize<CS: ConstraintSystem<S>>(\n",
    "        self, \n",
    "        cs: &mut CS\n",
    "    ) -> Result<(), SynthesisError>\n",
    "    {\n",
    "        \n",
    "        // Allocate the first value (private)\n",
    "        let a = cs.alloc(|| \"a\", || {\n",
    "            self.a.ok_or(SynthesisError::AssignmentMissing)\n",
    "        })?;\n",
    "        \n",
    "        // Allocate the second value (private)\n",
    "        let b = cs.alloc(|| \"b\", || {\n",
    "            self.b.ok_or(SynthesisError::AssignmentMissing)\n",
    "        })?;\n",
    "        \n",
    "        // Allocate the third value (public)\n",
    "        // allocating a public input uses alloc_input\n",
    "        let c = cs.alloc_input(|| \"c\", || {\n",
    "            self.c.ok_or(SynthesisError::AssignmentMissing)\n",
    "        })?;\n",
    "\n",
    "        // a * b = c?\n",
    "        cs.enforce(\n",
    "            || \"a * b = c\",\n",
    "            |lc| lc + a,\n",
    "            |lc| lc + b,\n",
    "            |lc| lc + c\n",
    "        );\n",
    "        \n",
    "        Ok(())\n",
    "    }\n",
    "}"
   ]
  },
  {
   "cell_type": "markdown",
   "metadata": {},
   "source": [
    "需要注意的是，cs.enforce，就是验证c == a*b的\n",
    "\n",
    "### step 2：创建CRS"
   ]
  },
  {
   "cell_type": "raw",
   "metadata": {},
   "source": [
    "    let params = {\n",
    "        let c = MultiplyDemo {\n",
    "            a: None,\n",
    "            // make option values as None for these variables, for paramgen\n",
    "            // don't want to bake these nums into parameters\n",
    "            b: None,\n",
    "            c: None\n",
    "        };\n",
    "\n",
    "        generate_random_parameters::<Bls12, _, _>(c, &mut rng).unwrap()\n",
    "    };"
   ]
  },
  {
   "cell_type": "markdown",
   "metadata": {},
   "source": [
    "### step4: 创建proof"
   ]
  },
  {
   "cell_type": "raw",
   "metadata": {},
   "source": [
    "    // Create a groth16 proof with our parameters.\n",
    "    let proof = create_random_proof(c, &params, rng).unwrap();"
   ]
  },
  {
   "cell_type": "markdown",
   "metadata": {},
   "source": [
    "### step5：验证"
   ]
  },
  {
   "cell_type": "raw",
   "metadata": {},
   "source": [
    "    println!(\"{}\", verify_proof(\n",
    "        &pvk,\n",
    "        &proof,\n",
    "        &[public_input.unwrap()]\n",
    "    ).is_ok());\n"
   ]
  }
 ],
 "metadata": {
  "kernelspec": {
   "display_name": "Python 3.10.1 64-bit",
   "language": "python",
   "name": "python3"
  },
  "language_info": {
   "name": "python",
   "version": "3.10.1"
  },
  "orig_nbformat": 4,
  "vscode": {
   "interpreter": {
    "hash": "aee8b7b246df8f9039afb4144a1f6fd8d2ca17a180786b69acc140d282b71a49"
   }
  }
 },
 "nbformat": 4,
 "nbformat_minor": 2
}
